{
 "cells": [
  {
   "cell_type": "code",
   "execution_count": 1,
   "id": "dfced1d7",
   "metadata": {},
   "outputs": [
    {
     "name": "stderr",
     "output_type": "stream",
     "text": [
      "c:\\Users\\Claire Wang\\AppData\\Local\\Programs\\Python\\Python38\\lib\\site-packages\\tqdm\\auto.py:22: TqdmWarning: IProgress not found. Please update jupyter and ipywidgets. See https://ipywidgets.readthedocs.io/en/stable/user_install.html\n",
      "  from .autonotebook import tqdm as notebook_tqdm\n"
     ]
    }
   ],
   "source": [
    "import csv\n",
    "import pickle\n",
    "import time\n",
    "import datetime\n",
    "# import numpy as np\n",
    "# import pandas as pd\n",
    "from collections import Counter\n",
    "from preprocess.Dataset import get_dataloader"
   ]
  },
  {
   "cell_type": "code",
   "execution_count": 2,
   "id": "153befa2",
   "metadata": {},
   "outputs": [],
   "source": [
    "with open('./../structuredData/911.csv', newline='') as csvfile:\n",
    "    spamreader = csv.reader(csvfile, delimiter=',', quotechar='|')\n",
    "    data = []\n",
    "    for row in spamreader:\n",
    "        data.append(row)"
   ]
  },
  {
   "cell_type": "code",
   "execution_count": 3,
   "id": "154aae38",
   "metadata": {},
   "outputs": [
    {
     "data": {
      "text/plain": [
       "663523"
      ]
     },
     "execution_count": 3,
     "metadata": {},
     "output_type": "execute_result"
    }
   ],
   "source": [
    "len(data)"
   ]
  },
  {
   "cell_type": "code",
   "execution_count": 4,
   "id": "941bb338",
   "metadata": {},
   "outputs": [],
   "source": [
    "data[0]\n",
    "LAT = 0\n",
    "LNG = 1\n",
    "DESC = 2\n",
    "ZIP = 3\n",
    "TITLE = 4\n",
    "TIME = 5\n",
    "TWP = 6\n",
    "ADDR = 7"
   ]
  },
  {
   "cell_type": "code",
   "execution_count": 20,
   "id": "99df464a",
   "metadata": {},
   "outputs": [],
   "source": [
    "# event type (K)\n",
    "EMS = 0\n",
    "FIRE = 1\n",
    "TRAFFIC = 2"
   ]
  },
  {
   "cell_type": "code",
   "execution_count": 6,
   "id": "71df4602",
   "metadata": {},
   "outputs": [],
   "source": [
    "zips = []\n",
    "for d in data:\n",
    "    if len(d[ZIP]) == 5:\n",
    "        zips.append(d[ZIP])"
   ]
  },
  {
   "cell_type": "code",
   "execution_count": 7,
   "id": "9a9d04d5",
   "metadata": {},
   "outputs": [],
   "source": [
    "zip_counts = Counter(zips)"
   ]
  },
  {
   "cell_type": "code",
   "execution_count": 8,
   "id": "a0312e38",
   "metadata": {},
   "outputs": [],
   "source": [
    "freq_zips = [elem[0] for elem in zip_counts.most_common(75)]"
   ]
  },
  {
   "cell_type": "code",
   "execution_count": 21,
   "id": "3f487bbb",
   "metadata": {},
   "outputs": [],
   "source": [
    "vertex_mapping = {freq_zips[i]: i for i in range(len(freq_zips))}"
   ]
  },
  {
   "cell_type": "code",
   "execution_count": 10,
   "id": "d909ea29",
   "metadata": {},
   "outputs": [],
   "source": [
    "def get_event_type(title):\n",
    "    if title[:3] == \"EMS\":\n",
    "        return EMS\n",
    "    elif title[:4] == \"Fire\":\n",
    "        return FIRE\n",
    "    elif title[:7] == \"Traffic\":\n",
    "        return TRAFFIC\n",
    "    else:\n",
    "        print(title)"
   ]
  },
  {
   "cell_type": "code",
   "execution_count": 22,
   "id": "2e2099ab",
   "metadata": {},
   "outputs": [],
   "source": [
    "filtered_data = []\n",
    "for d in data:\n",
    "    if d[ZIP] in vertex_mapping:\n",
    "        element = datetime.datetime.strptime(d[TIME], \"%Y-%m-%d %H:%M:%S\")\n",
    "        timestamp = datetime.datetime.timestamp(element)\n",
    "        event_type = get_event_type(d[TITLE])\n",
    "        vertex = vertex_mapping[d[ZIP]]\n",
    "        filtered_data.append([element, timestamp, event_type, vertex])\n",
    "filtered_data.sort(key=lambda x: x[1])"
   ]
  },
  {
   "cell_type": "code",
   "execution_count": 23,
   "id": "82cf3f8b",
   "metadata": {},
   "outputs": [],
   "source": [
    "unstructured_data = []\n",
    "cur_stream = []\n",
    "cur_time = None\n",
    "start_time = None\n",
    "timescale = 1e3\n",
    "for t, ts, k, v in filtered_data:\n",
    "    cur_time = t if cur_time is None else cur_time\n",
    "    same_stream = cur_time.year == t.year and cur_time.month == t.month and cur_time.day == t.day and cur_time.hour == t.hour\n",
    "#     same_stream = cur_time.year == t.year and cur_time.month == t.month and cur_time.day == t.day\n",
    "    if not same_stream:\n",
    "        for event in cur_stream:\n",
    "            event['time_since_start'] /= timescale\n",
    "            event['time_since_last_event'] /= timescale\n",
    "        if len(cur_stream) > 1:\n",
    "            unstructured_data.append(cur_stream)\n",
    "        cur_stream = []\n",
    "        cur_time = t\n",
    "        start_time = datetime.datetime.timestamp(t)\n",
    "    cur_stream.append({\n",
    "        'time_since_start': (ts - start_time if start_time else 0),\n",
    "        'time_since_last_event': ts - cur_stream[-1]['time_since_start'] - start_time if len(cur_stream) > 0 else 0,\n",
    "        'type_event': k\n",
    "    })\n",
    "for event in cur_stream:\n",
    "    event['time_since_start'] /= timescale\n",
    "    event['time_since_last_event'] /= timescale\n",
    "if len(cur_stream) > 1:\n",
    "    unstructured_data.append(cur_stream)"
   ]
  },
  {
   "cell_type": "code",
   "execution_count": 24,
   "id": "31614723",
   "metadata": {},
   "outputs": [],
   "source": [
    "structured_data = []\n",
    "cur_stream = []\n",
    "cur_time = None\n",
    "start_time = None\n",
    "timescale = 1e3\n",
    "for t, ts, k, v in filtered_data:\n",
    "    cur_time = t if cur_time is None else cur_time\n",
    "    same_stream = cur_time.year == t.year and cur_time.month == t.month and cur_time.day == t.day and cur_time.hour == t.hour\n",
    "#     same_stream = cur_time.year == t.year and cur_time.month == t.month and cur_time.day == t.day\n",
    "    if not same_stream:\n",
    "        for event in cur_stream:\n",
    "            event['time_since_start'] /= timescale\n",
    "            event['time_since_last_event'] /= timescale\n",
    "        if len(cur_stream) > 1:\n",
    "            structured_data.append(cur_stream)\n",
    "        cur_stream = []\n",
    "        cur_time = t\n",
    "        start_time = datetime.datetime.timestamp(t)\n",
    "    cur_stream.append({\n",
    "        'time_since_start': (ts - start_time if start_time else 0),\n",
    "        'time_since_last_event': ts - cur_stream[-1]['time_since_start'] - start_time if len(cur_stream) > 0 else 0,\n",
    "        'type_event': k,\n",
    "        'vertex': v,\n",
    "    })\n",
    "for event in cur_stream:\n",
    "    event['time_since_start'] /= timescale\n",
    "    event['time_since_last_event'] /= timescale\n",
    "if len(cur_stream) > 1:\n",
    "    structured_data.append(cur_stream)"
   ]
  },
  {
   "cell_type": "code",
   "execution_count": 25,
   "id": "c4574524",
   "metadata": {},
   "outputs": [
    {
     "data": {
      "text/plain": [
       "40167"
      ]
     },
     "execution_count": 25,
     "metadata": {},
     "output_type": "execute_result"
    }
   ],
   "source": [
    "len(unstructured_data)"
   ]
  },
  {
   "cell_type": "code",
   "execution_count": 26,
   "id": "d255f4f7",
   "metadata": {},
   "outputs": [
    {
     "data": {
      "text/plain": [
       "[{'time_since_start': 0.0, 'time_since_last_event': 0.0, 'type_event': 0},\n",
       " {'time_since_start': 0.589, 'time_since_last_event': 0.589, 'type_event': 0},\n",
       " {'time_since_start': 1.553, 'time_since_last_event': 0.964, 'type_event': 1},\n",
       " {'time_since_start': 2.058, 'time_since_last_event': 0.505, 'type_event': 2}]"
      ]
     },
     "execution_count": 26,
     "metadata": {},
     "output_type": "execute_result"
    }
   ],
   "source": [
    "unstructured_data[10]"
   ]
  },
  {
   "cell_type": "code",
   "execution_count": 27,
   "id": "dc5777ad",
   "metadata": {},
   "outputs": [
    {
     "data": {
      "text/plain": [
       "[{'time_since_start': 0.0,\n",
       "  'time_since_last_event': 0.0,\n",
       "  'type_event': 0,\n",
       "  'vertex': 0},\n",
       " {'time_since_start': 0.589,\n",
       "  'time_since_last_event': 0.589,\n",
       "  'type_event': 0,\n",
       "  'vertex': 10},\n",
       " {'time_since_start': 1.553,\n",
       "  'time_since_last_event': 0.964,\n",
       "  'type_event': 1,\n",
       "  'vertex': 4},\n",
       " {'time_since_start': 2.058,\n",
       "  'time_since_last_event': 0.505,\n",
       "  'type_event': 2,\n",
       "  'vertex': 24}]"
      ]
     },
     "execution_count": 27,
     "metadata": {},
     "output_type": "execute_result"
    }
   ],
   "source": [
    "structured_data[10]"
   ]
  },
  {
   "cell_type": "code",
   "execution_count": 18,
   "id": "f52df46c",
   "metadata": {},
   "outputs": [],
   "source": [
    "df = pd.DataFrame(unstructured_data)"
   ]
  },
  {
   "cell_type": "code",
   "execution_count": 22,
   "id": "6899bf8b",
   "metadata": {},
   "outputs": [],
   "source": [
    "# 60/20/20 split\n",
    "train, test, dev = np.split(df.sample(frac=1), [int(.6*len(df)), int(.8*len(df))])"
   ]
  },
  {
   "cell_type": "code",
   "execution_count": 36,
   "id": "766313dd",
   "metadata": {},
   "outputs": [],
   "source": [
    "train_list = train.values.tolist()\n",
    "test_list = test.values.tolist()\n",
    "dev_list = dev.values.tolist()"
   ]
  },
  {
   "cell_type": "code",
   "execution_count": 37,
   "id": "048bf0c2",
   "metadata": {},
   "outputs": [],
   "source": [
    "trimmed_train = []\n",
    "trimmed_test = []\n",
    "trimmed_dev = []\n",
    "for stream in train_list:\n",
    "    trimmed_train.append([event for event in stream if event is not None])\n",
    "for stream in test_list:\n",
    "    trimmed_test.append([event for event in stream if event is not None])\n",
    "for stream in dev_list:\n",
    "    trimmed_dev.append([event for event in stream if event is not None])"
   ]
  },
  {
   "cell_type": "code",
   "execution_count": 15,
   "id": "be9f9103",
   "metadata": {},
   "outputs": [],
   "source": [
    "with open('./../structuredData/911.pkl', 'wb') as handle:\n",
    "    pickle.dump(unstructured_data, handle, protocol=pickle.HIGHEST_PROTOCOL)"
   ]
  },
  {
   "cell_type": "code",
   "execution_count": 142,
   "id": "77ffe9a4",
   "metadata": {},
   "outputs": [],
   "source": [
    "with open('./../structuredData/911.pkl', 'rb') as handle:\n",
    "    b = pickle.load(handle)"
   ]
  },
  {
   "cell_type": "code",
   "execution_count": 143,
   "id": "032592e8",
   "metadata": {},
   "outputs": [
    {
     "data": {
      "text/plain": [
       "40519"
      ]
     },
     "execution_count": 143,
     "metadata": {},
     "output_type": "execute_result"
    }
   ],
   "source": [
    "len(b)"
   ]
  },
  {
   "cell_type": "code",
   "execution_count": 15,
   "id": "e6543f0d",
   "metadata": {},
   "outputs": [],
   "source": [
    "trainloader = get_dataloader(unstructured_data[:100], 4, shuffle=True)"
   ]
  },
  {
   "cell_type": "code",
   "execution_count": 33,
   "id": "95d60833",
   "metadata": {},
   "outputs": [
    {
     "name": "stdout",
     "output_type": "stream",
     "text": [
      "LANG=\"en_US.UTF-8\"\r\n",
      "LC_COLLATE=\"en_US.UTF-8\"\r\n",
      "LC_CTYPE=\"en_US.UTF-8\"\r\n",
      "LC_MESSAGES=\"en_US.UTF-8\"\r\n",
      "LC_MONETARY=\"en_US.UTF-8\"\r\n",
      "LC_NUMERIC=\"en_US.UTF-8\"\r\n",
      "LC_TIME=\"en_US.UTF-8\"\r\n",
      "LC_ALL=\r\n"
     ]
    }
   ],
   "source": [
    "! locale"
   ]
  },
  {
   "cell_type": "code",
   "execution_count": 34,
   "id": "28773f70",
   "metadata": {},
   "outputs": [
    {
     "ename": "NameError",
     "evalue": "name 'trainloader' is not defined",
     "output_type": "error",
     "traceback": [
      "\u001b[0;31m---------------------------------------------------------------------------\u001b[0m",
      "\u001b[0;31mNameError\u001b[0m                                 Traceback (most recent call last)",
      "Cell \u001b[0;32mIn[34], line 1\u001b[0m\n\u001b[0;32m----> 1\u001b[0m \u001b[38;5;28;01mfor\u001b[39;00m i, e \u001b[38;5;129;01min\u001b[39;00m \u001b[38;5;28menumerate\u001b[39m(\u001b[43mtrainloader\u001b[49m):\n\u001b[1;32m      2\u001b[0m     \u001b[38;5;28mprint\u001b[39m(i)\n\u001b[1;32m      3\u001b[0m     \u001b[38;5;28mprint\u001b[39m(e)\n",
      "\u001b[0;31mNameError\u001b[0m: name 'trainloader' is not defined"
     ]
    }
   ],
   "source": [
    "for i, e in enumerate(trainloader):\n",
    "    print(i)\n",
    "    print(e)\n",
    "    break"
   ]
  },
  {
   "cell_type": "code",
   "execution_count": 28,
   "id": "b96c7695",
   "metadata": {},
   "outputs": [],
   "source": [
    "train = {\n",
    "    \"dim_process\": 3,\n",
    "    \"num_vertices\": 75,\n",
    "    \"devtest\": [],\n",
    "    \"args\": None,\n",
    "    \"dev\": [],\n",
    "    \"train\": structured_data[:100],\n",
    "    \"test\": [],\n",
    "}\n",
    "test = {\n",
    "    \"dim_process\": 3,\n",
    "    \"num_vertices\": 75,\n",
    "    \"devtest\": [],\n",
    "    \"args\": None,\n",
    "    \"dev\": [],\n",
    "    \"train\": [],\n",
    "    \"test\": structured_data[100:150],\n",
    "}\n",
    "dev = {\n",
    "    \"dim_process\": 3,\n",
    "    \"num_vertices\": 75,\n",
    "    \"devtest\": [],\n",
    "    \"args\": None,\n",
    "    \"dev\": structured_data[150:200],\n",
    "    \"train\": [],\n",
    "    \"test\": [],\n",
    "}"
   ]
  },
  {
   "cell_type": "code",
   "execution_count": 29,
   "id": "5a57c2a0",
   "metadata": {},
   "outputs": [],
   "source": [
    "with open('./../structuredData/train.pkl', 'wb') as handle:\n",
    "    pickle.dump(train, handle, protocol=pickle.HIGHEST_PROTOCOL)\n",
    "with open('./../structuredData/test.pkl', 'wb') as handle:\n",
    "    pickle.dump(test, handle, protocol=pickle.HIGHEST_PROTOCOL)\n",
    "with open('./../structuredData/dev.pkl', 'wb') as handle:\n",
    "    pickle.dump(dev, handle, protocol=pickle.HIGHEST_PROTOCOL)"
   ]
  },
  {
   "cell_type": "code",
   "execution_count": 103,
   "id": "e9ddfd7b",
   "metadata": {},
   "outputs": [],
   "source": [
    "with open('./../NeuralHawkesData/data_mimic/fold1/train.pkl', 'rb') as handle:\n",
    "    b = pickle.load(handle, encoding='latin-1')"
   ]
  },
  {
   "cell_type": "code",
   "execution_count": 3,
   "id": "3c99fe36",
   "metadata": {},
   "outputs": [],
   "source": [
    "with open('./data/train.pkl', 'rb') as handle:\n",
    "    b = pickle.load(handle, encoding='latin-1')"
   ]
  },
  {
   "cell_type": "code",
   "execution_count": 21,
   "id": "79d6c6b9",
   "metadata": {},
   "outputs": [],
   "source": [
    "import numpy as np\n",
    "from bisect import bisect_left  "
   ]
  },
  {
   "cell_type": "code",
   "execution_count": 17,
   "id": "1cc6cc4e",
   "metadata": {},
   "outputs": [],
   "source": [
    "NUM_BINS = 1000\n",
    "epsilon = 0.0001"
   ]
  },
  {
   "cell_type": "code",
   "execution_count": 24,
   "id": "2aa4ad6e",
   "metadata": {},
   "outputs": [],
   "source": [
    "flattened = [x for l in b['train'] for x in l]\n",
    "latest_t = 0\n",
    "num_types = 0\n",
    "for entry in flattened:\n",
    "  if entry['time_since_start'] >= latest_t:\n",
    "    latest_t = entry['time_since_start']\n",
    "  if entry['vertex'] >= num_types:\n",
    "    num_types = entry['vertex']\n",
    "num_types += 1\n",
    "\n",
    "bins = np.linspace(0, latest_t+epsilon, NUM_BINS+1)\n",
    "S_cumulative = np.zeros((NUM_BINS, num_types))\n",
    "S_onehot = np.zeros((NUM_BINS, num_types))\n",
    "\n",
    "for entry in flattened:\n",
    "  i = bisect_left(bins, entry['time_since_start'])\n",
    "  S_cumulative[i-1, entry['vertex']] += 1\n",
    "  S_onehot[i-1, entry['vertex']] = 1"
   ]
  },
  {
   "cell_type": "code",
   "execution_count": 28,
   "id": "866efc2a",
   "metadata": {},
   "outputs": [],
   "source": [
    "np.save('S_cumulative.npy', S_cumulative)\n",
    "np.save('S_onehot.npy', S_onehot)"
   ]
  },
  {
   "cell_type": "code",
   "execution_count": 32,
   "id": "55139a4c",
   "metadata": {},
   "outputs": [],
   "source": [
    "A = np.load('A.npy')\n",
    "W = np.load('W.npy')"
   ]
  },
  {
   "cell_type": "code",
   "execution_count": 36,
   "id": "846a551b",
   "metadata": {},
   "outputs": [],
   "source": [
    "weighted_A = A @ W"
   ]
  },
  {
   "cell_type": "code",
   "execution_count": 37,
   "id": "6f707c1f",
   "metadata": {},
   "outputs": [],
   "source": [
    "np.save('weighted_A.npy', weighted_A)"
   ]
  },
  {
   "cell_type": "code",
   "execution_count": 115,
   "id": "9a665992",
   "metadata": {},
   "outputs": [],
   "source": [
    "stream_lengths = [len(elem) for elem in b['train']]\n",
    "last_times = [elem[-1][\"time_since_last_event\"] for elem in b['train']]"
   ]
  },
  {
   "cell_type": "code",
   "execution_count": 117,
   "id": "c4bf87b8",
   "metadata": {},
   "outputs": [
    {
     "data": {
      "text/plain": [
       "2"
      ]
     },
     "execution_count": 117,
     "metadata": {},
     "output_type": "execute_result"
    }
   ],
   "source": [
    "min(stream_lengths)"
   ]
  },
  {
   "cell_type": "code",
   "execution_count": 56,
   "id": "fdcf9e4b",
   "metadata": {},
   "outputs": [
    {
     "data": {
      "text/plain": [
       "([datetime.datetime(2015, 12, 11, 0, 1, 29), 1449810089.0, 1, 30],\n",
       " [datetime.datetime(2015, 12, 11, 23, 58, 50), 1449896330.0, 1, 9],\n",
       " [datetime.datetime(2015, 12, 12, 0, 15, 12), 1449897312.0, 1, 39])"
      ]
     },
     "execution_count": 56,
     "metadata": {},
     "output_type": "execute_result"
    }
   ],
   "source": [
    "filtered_data[100], filtered_data[431], filtered_data[432]"
   ]
  },
  {
   "cell_type": "code",
   "execution_count": 70,
   "id": "139d89dd",
   "metadata": {},
   "outputs": [
    {
     "data": {
      "text/plain": [
       "datetime.timedelta(days=-1, seconds=159)"
      ]
     },
     "execution_count": 70,
     "metadata": {},
     "output_type": "execute_result"
    }
   ],
   "source": [
    "filtered_data[100][0] - filtered_data[431][0]"
   ]
  },
  {
   "cell_type": "code",
   "execution_count": 26,
   "id": "e5b1b7f6",
   "metadata": {},
   "outputs": [
    {
     "data": {
      "text/plain": [
       "['40.2580614',\n",
       " '-75.2646799',\n",
       " 'BRIAR PATH & WHITEMARSH LN;  HATFIELD TOWNSHIP; Station 345; 2015-12-10 @ 17:29:21;',\n",
       " '19446',\n",
       " 'EMS: DIABETIC EMERGENCY',\n",
       " '2015-12-10 17:29:21',\n",
       " 'HATFIELD TOWNSHIP',\n",
       " 'BRIAR PATH & WHITEMARSH LN',\n",
       " '1']"
      ]
     },
     "execution_count": 26,
     "metadata": {},
     "output_type": "execute_result"
    }
   ],
   "source": [
    "data[2]"
   ]
  },
  {
   "cell_type": "code",
   "execution_count": 17,
   "id": "179f9346",
   "metadata": {},
   "outputs": [
    {
     "name": "stdout",
     "output_type": "stream",
     "text": [
      "1449785452.0\n"
     ]
    }
   ],
   "source": [
    "string = \"2015-12-10 17:10:52\"\n",
    "element = datetime.datetime.strptime(string,\"%Y-%m-%d %H:%M:%S\")\n",
    "timestamp = datetime.datetime.timestamp(element)\n",
    "print(timestamp)"
   ]
  },
  {
   "cell_type": "code",
   "execution_count": 27,
   "id": "d338f35b",
   "metadata": {},
   "outputs": [
    {
     "name": "stdout",
     "output_type": "stream",
     "text": [
      "1449786561.0\n"
     ]
    }
   ],
   "source": [
    "string = \"2015-12-10 17:29:21\"\n",
    "element = datetime.datetime.strptime(string,\"%Y-%m-%d %H:%M:%S\")\n",
    "timestamp = datetime.datetime.timestamp(element)\n",
    "print(timestamp)"
   ]
  },
  {
   "cell_type": "code",
   "execution_count": 28,
   "id": "25e1a267",
   "metadata": {},
   "outputs": [
    {
     "data": {
      "text/plain": [
       "1109.0"
      ]
     },
     "execution_count": 28,
     "metadata": {},
     "output_type": "execute_result"
    }
   ],
   "source": [
    "1449786561.0 - 1449785452.0"
   ]
  },
  {
   "cell_type": "code",
   "execution_count": 12,
   "id": "bc357876",
   "metadata": {},
   "outputs": [
    {
     "data": {
      "text/plain": [
       "['40.0150463',\n",
       " '-75.2996738',\n",
       " 'HAVERFORD STATION RD & W MONTGOMERY AVE; LOWER MERION; 2020-07-29 @ 15:52:46;',\n",
       " '19041',\n",
       " 'Traffic: VEHICLE ACCIDENT -',\n",
       " '2020-07-29 15:52:46',\n",
       " 'LOWER MERION',\n",
       " 'HAVERFORD STATION RD & W MONTGOMERY AVE',\n",
       " '1']"
      ]
     },
     "execution_count": 12,
     "metadata": {},
     "output_type": "execute_result"
    }
   ],
   "source": [
    "data[663522]"
   ]
  },
  {
   "cell_type": "code",
   "execution_count": null,
   "id": "355922a9",
   "metadata": {},
   "outputs": [],
   "source": [
    "\"\"\"\n",
    "Example input data format\n",
    "\n",
    "[\n",
    "{\n",
    "'time_since_start': 0.0,\n",
    "'time_since_last_event': 0.0,\n",
    "'type_event': 1\n",
    "},\n",
    "{\n",
    "'time_since_start': 0.23076923,\n",
    "'time_since_last_event': 0.23076923,\n",
    "'type_event': 1\n",
    "}, {\n",
    "'time_since_start': 0.28846154,\n",
    "'time_since_last_event': 0.057692304,\n",
    "'type_event': 1\n",
    "}, {\n",
    "'time_since_start': 0.34615386,\n",
    "'time_since_last_event': 0.05769232,\n",
    "'type_event': 1\n",
    "}\n",
    "]\n",
    "\"\"\""
   ]
  },
  {
   "cell_type": "code",
   "execution_count": 54,
   "id": "af1f628e",
   "metadata": {},
   "outputs": [
    {
     "name": "stdout",
     "output_type": "stream",
     "text": [
      "Fatal Python error: config_get_locale_encoding: failed to get the locale encoding: nl_langinfo(CODESET) failed\r\n",
      "Python runtime state: preinitialized\r\n",
      "\r\n"
     ]
    }
   ],
   "source": [
    "! bash run.sh"
   ]
  }
 ],
 "metadata": {
  "kernelspec": {
   "display_name": "Python 3 (ipykernel)",
   "language": "python",
   "name": "python3"
  },
  "language_info": {
   "codemirror_mode": {
    "name": "ipython",
    "version": 3
   },
   "file_extension": ".py",
   "mimetype": "text/x-python",
   "name": "python",
   "nbconvert_exporter": "python",
   "pygments_lexer": "ipython3",
   "version": "3.8.3"
  }
 },
 "nbformat": 4,
 "nbformat_minor": 5
}
